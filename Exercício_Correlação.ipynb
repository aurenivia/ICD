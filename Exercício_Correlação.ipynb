{
  "nbformat": 4,
  "nbformat_minor": 0,
  "metadata": {
    "kernelspec": {
      "display_name": "icd",
      "language": "python",
      "name": "icd"
    },
    "language_info": {
      "codemirror_mode": {
        "name": "ipython",
        "version": 3
      },
      "file_extension": ".py",
      "mimetype": "text/x-python",
      "name": "python",
      "nbconvert_exporter": "python",
      "pygments_lexer": "ipython3",
      "version": "3.7.7"
    },
    "colab": {
      "name": "Cópia de Exercício - Correlação.ipynb",
      "provenance": [],
      "collapsed_sections": [],
      "toc_visible": true
    }
  },
  "cells": [
    {
      "cell_type": "markdown",
      "metadata": {
        "id": "WzFiM2DM59-U"
      },
      "source": [
        "# Introdução à Ciência de Dados - UFPB\n",
        "Professor: Yuri Malheiros\n",
        "\n",
        "Aluna: Aurenívia Gomes da Costa\n",
        "## Correlação"
      ]
    },
    {
      "cell_type": "markdown",
      "metadata": {
        "id": "7kAMLSNa59-U"
      },
      "source": [
        "Colete os seguintes dados dos times do campeonato brasileiro de 2019:\n",
        "\n",
        "- Pontos\n",
        "- Gols marcados\n",
        "- Gol sofridos\n",
        "\n",
        "Você pode encontrar esses dados no site da CBF (www.cbf.com.br)\n",
        "\n",
        "Calcule a correlação entre:\n",
        "\n",
        "- Pontos e gols marcados\n",
        "- Pontos e gols sofridos"
      ]
    },
    {
      "cell_type": "code",
      "metadata": {
        "colab": {
          "base_uri": "https://localhost:8080/",
          "height": 669
        },
        "id": "T-ah_ShJ6Gzl",
        "outputId": "46ab52eb-b6e5-49ab-89e8-215a51f32a99"
      },
      "source": [
        "# dataset extraído e tratado de https://www.ludopedio.com.br/tabela-automatica-brasileirao-2019/\n",
        "import pandas as pd\n",
        "import numpy as np\n",
        "\n",
        "futebol = pd.read_csv(\"/content/dataset futebol - tratado.csv\");\n",
        "\n",
        "futebol\n"
      ],
      "execution_count": 2,
      "outputs": [
        {
          "output_type": "execute_result",
          "data": {
            "text/html": [
              "<div>\n",
              "<style scoped>\n",
              "    .dataframe tbody tr th:only-of-type {\n",
              "        vertical-align: middle;\n",
              "    }\n",
              "\n",
              "    .dataframe tbody tr th {\n",
              "        vertical-align: top;\n",
              "    }\n",
              "\n",
              "    .dataframe thead th {\n",
              "        text-align: right;\n",
              "    }\n",
              "</style>\n",
              "<table border=\"1\" class=\"dataframe\">\n",
              "  <thead>\n",
              "    <tr style=\"text-align: right;\">\n",
              "      <th></th>\n",
              "      <th>Geral</th>\n",
              "      <th>TIME</th>\n",
              "      <th>PG</th>\n",
              "      <th>J</th>\n",
              "      <th>V</th>\n",
              "      <th>E</th>\n",
              "      <th>D</th>\n",
              "      <th>GP</th>\n",
              "      <th>GC</th>\n",
              "      <th>SG</th>\n",
              "      <th>AP</th>\n",
              "    </tr>\n",
              "  </thead>\n",
              "  <tbody>\n",
              "    <tr>\n",
              "      <th>0</th>\n",
              "      <td>1º</td>\n",
              "      <td>Flamengo</td>\n",
              "      <td>90</td>\n",
              "      <td>38</td>\n",
              "      <td>28</td>\n",
              "      <td>6</td>\n",
              "      <td>4</td>\n",
              "      <td>86</td>\n",
              "      <td>37</td>\n",
              "      <td>49</td>\n",
              "      <td>78,95%</td>\n",
              "    </tr>\n",
              "    <tr>\n",
              "      <th>1</th>\n",
              "      <td>2º</td>\n",
              "      <td>Santos</td>\n",
              "      <td>74</td>\n",
              "      <td>38</td>\n",
              "      <td>22</td>\n",
              "      <td>8</td>\n",
              "      <td>8</td>\n",
              "      <td>60</td>\n",
              "      <td>33</td>\n",
              "      <td>27</td>\n",
              "      <td>64,91%</td>\n",
              "    </tr>\n",
              "    <tr>\n",
              "      <th>2</th>\n",
              "      <td>3º</td>\n",
              "      <td>Palmeiras</td>\n",
              "      <td>74</td>\n",
              "      <td>38</td>\n",
              "      <td>21</td>\n",
              "      <td>11</td>\n",
              "      <td>6</td>\n",
              "      <td>61</td>\n",
              "      <td>32</td>\n",
              "      <td>29</td>\n",
              "      <td>64,91%</td>\n",
              "    </tr>\n",
              "    <tr>\n",
              "      <th>3</th>\n",
              "      <td>4º</td>\n",
              "      <td>Grêmio</td>\n",
              "      <td>65</td>\n",
              "      <td>38</td>\n",
              "      <td>19</td>\n",
              "      <td>8</td>\n",
              "      <td>11</td>\n",
              "      <td>64</td>\n",
              "      <td>39</td>\n",
              "      <td>25</td>\n",
              "      <td>57,02%</td>\n",
              "    </tr>\n",
              "    <tr>\n",
              "      <th>4</th>\n",
              "      <td>5º</td>\n",
              "      <td>Athletico-PR</td>\n",
              "      <td>64</td>\n",
              "      <td>38</td>\n",
              "      <td>18</td>\n",
              "      <td>10</td>\n",
              "      <td>10</td>\n",
              "      <td>49</td>\n",
              "      <td>32</td>\n",
              "      <td>17</td>\n",
              "      <td>56,14%</td>\n",
              "    </tr>\n",
              "    <tr>\n",
              "      <th>5</th>\n",
              "      <td>6º</td>\n",
              "      <td>São Paulo</td>\n",
              "      <td>63</td>\n",
              "      <td>38</td>\n",
              "      <td>17</td>\n",
              "      <td>12</td>\n",
              "      <td>9</td>\n",
              "      <td>39</td>\n",
              "      <td>30</td>\n",
              "      <td>9</td>\n",
              "      <td>55,26%</td>\n",
              "    </tr>\n",
              "    <tr>\n",
              "      <th>6</th>\n",
              "      <td>7º</td>\n",
              "      <td>Inter-RS</td>\n",
              "      <td>57</td>\n",
              "      <td>38</td>\n",
              "      <td>16</td>\n",
              "      <td>9</td>\n",
              "      <td>13</td>\n",
              "      <td>44</td>\n",
              "      <td>39</td>\n",
              "      <td>5</td>\n",
              "      <td>50,00%</td>\n",
              "    </tr>\n",
              "    <tr>\n",
              "      <th>7</th>\n",
              "      <td>8º</td>\n",
              "      <td>Corinthians</td>\n",
              "      <td>56</td>\n",
              "      <td>38</td>\n",
              "      <td>14</td>\n",
              "      <td>14</td>\n",
              "      <td>10</td>\n",
              "      <td>42</td>\n",
              "      <td>34</td>\n",
              "      <td>8</td>\n",
              "      <td>49,12%</td>\n",
              "    </tr>\n",
              "    <tr>\n",
              "      <th>8</th>\n",
              "      <td>9º</td>\n",
              "      <td>Fortaleza</td>\n",
              "      <td>53</td>\n",
              "      <td>38</td>\n",
              "      <td>15</td>\n",
              "      <td>8</td>\n",
              "      <td>15</td>\n",
              "      <td>50</td>\n",
              "      <td>47</td>\n",
              "      <td>3</td>\n",
              "      <td>46,49%</td>\n",
              "    </tr>\n",
              "    <tr>\n",
              "      <th>9</th>\n",
              "      <td>10º</td>\n",
              "      <td>Goiás</td>\n",
              "      <td>52</td>\n",
              "      <td>38</td>\n",
              "      <td>15</td>\n",
              "      <td>7</td>\n",
              "      <td>16</td>\n",
              "      <td>46</td>\n",
              "      <td>64</td>\n",
              "      <td>-18</td>\n",
              "      <td>45,61%</td>\n",
              "    </tr>\n",
              "    <tr>\n",
              "      <th>10</th>\n",
              "      <td>11º</td>\n",
              "      <td>Bahia</td>\n",
              "      <td>49</td>\n",
              "      <td>38</td>\n",
              "      <td>12</td>\n",
              "      <td>13</td>\n",
              "      <td>13</td>\n",
              "      <td>44</td>\n",
              "      <td>43</td>\n",
              "      <td>1</td>\n",
              "      <td>42,98%</td>\n",
              "    </tr>\n",
              "    <tr>\n",
              "      <th>11</th>\n",
              "      <td>12º</td>\n",
              "      <td>Vasco</td>\n",
              "      <td>49</td>\n",
              "      <td>38</td>\n",
              "      <td>12</td>\n",
              "      <td>13</td>\n",
              "      <td>13</td>\n",
              "      <td>39</td>\n",
              "      <td>45</td>\n",
              "      <td>-6</td>\n",
              "      <td>42,98%</td>\n",
              "    </tr>\n",
              "    <tr>\n",
              "      <th>12</th>\n",
              "      <td>13º</td>\n",
              "      <td>Atlético-MG</td>\n",
              "      <td>48</td>\n",
              "      <td>38</td>\n",
              "      <td>13</td>\n",
              "      <td>9</td>\n",
              "      <td>16</td>\n",
              "      <td>45</td>\n",
              "      <td>49</td>\n",
              "      <td>-4</td>\n",
              "      <td>42,11%</td>\n",
              "    </tr>\n",
              "    <tr>\n",
              "      <th>13</th>\n",
              "      <td>14º</td>\n",
              "      <td>Fluminense</td>\n",
              "      <td>46</td>\n",
              "      <td>38</td>\n",
              "      <td>12</td>\n",
              "      <td>10</td>\n",
              "      <td>16</td>\n",
              "      <td>38</td>\n",
              "      <td>46</td>\n",
              "      <td>-8</td>\n",
              "      <td>40,35%</td>\n",
              "    </tr>\n",
              "    <tr>\n",
              "      <th>14</th>\n",
              "      <td>15º</td>\n",
              "      <td>Botafogo</td>\n",
              "      <td>43</td>\n",
              "      <td>38</td>\n",
              "      <td>13</td>\n",
              "      <td>4</td>\n",
              "      <td>21</td>\n",
              "      <td>31</td>\n",
              "      <td>45</td>\n",
              "      <td>-14</td>\n",
              "      <td>37,72%</td>\n",
              "    </tr>\n",
              "    <tr>\n",
              "      <th>15</th>\n",
              "      <td>16º</td>\n",
              "      <td>Ceará</td>\n",
              "      <td>39</td>\n",
              "      <td>38</td>\n",
              "      <td>10</td>\n",
              "      <td>9</td>\n",
              "      <td>19</td>\n",
              "      <td>36</td>\n",
              "      <td>41</td>\n",
              "      <td>-5</td>\n",
              "      <td>34,21%</td>\n",
              "    </tr>\n",
              "    <tr>\n",
              "      <th>16</th>\n",
              "      <td>17º</td>\n",
              "      <td>Cruzeiro</td>\n",
              "      <td>36</td>\n",
              "      <td>38</td>\n",
              "      <td>7</td>\n",
              "      <td>15</td>\n",
              "      <td>16</td>\n",
              "      <td>27</td>\n",
              "      <td>46</td>\n",
              "      <td>-19</td>\n",
              "      <td>31,58%</td>\n",
              "    </tr>\n",
              "    <tr>\n",
              "      <th>17</th>\n",
              "      <td>18º</td>\n",
              "      <td>CSA</td>\n",
              "      <td>32</td>\n",
              "      <td>38</td>\n",
              "      <td>8</td>\n",
              "      <td>8</td>\n",
              "      <td>22</td>\n",
              "      <td>24</td>\n",
              "      <td>58</td>\n",
              "      <td>-34</td>\n",
              "      <td>28,07%</td>\n",
              "    </tr>\n",
              "    <tr>\n",
              "      <th>18</th>\n",
              "      <td>19º</td>\n",
              "      <td>Chapecoense</td>\n",
              "      <td>32</td>\n",
              "      <td>38</td>\n",
              "      <td>7</td>\n",
              "      <td>11</td>\n",
              "      <td>20</td>\n",
              "      <td>31</td>\n",
              "      <td>52</td>\n",
              "      <td>-21</td>\n",
              "      <td>28,07%</td>\n",
              "    </tr>\n",
              "    <tr>\n",
              "      <th>19</th>\n",
              "      <td>20º</td>\n",
              "      <td>Avaí</td>\n",
              "      <td>20</td>\n",
              "      <td>38</td>\n",
              "      <td>3</td>\n",
              "      <td>11</td>\n",
              "      <td>24</td>\n",
              "      <td>18</td>\n",
              "      <td>62</td>\n",
              "      <td>-44</td>\n",
              "      <td>17,54%</td>\n",
              "    </tr>\n",
              "  </tbody>\n",
              "</table>\n",
              "</div>"
            ],
            "text/plain": [
              "   Geral          TIME  PG   J   V   E   D  GP  GC  SG      AP\n",
              "0     1º      Flamengo  90  38  28   6   4  86  37  49  78,95%\n",
              "1     2º        Santos  74  38  22   8   8  60  33  27  64,91%\n",
              "2     3º     Palmeiras  74  38  21  11   6  61  32  29  64,91%\n",
              "3     4º        Grêmio  65  38  19   8  11  64  39  25  57,02%\n",
              "4     5º  Athletico-PR  64  38  18  10  10  49  32  17  56,14%\n",
              "5     6º     São Paulo  63  38  17  12   9  39  30   9  55,26%\n",
              "6     7º      Inter-RS  57  38  16   9  13  44  39   5  50,00%\n",
              "7     8º   Corinthians  56  38  14  14  10  42  34   8  49,12%\n",
              "8     9º     Fortaleza  53  38  15   8  15  50  47   3  46,49%\n",
              "9    10º         Goiás  52  38  15   7  16  46  64 -18  45,61%\n",
              "10   11º         Bahia  49  38  12  13  13  44  43   1  42,98%\n",
              "11   12º         Vasco  49  38  12  13  13  39  45  -6  42,98%\n",
              "12   13º   Atlético-MG  48  38  13   9  16  45  49  -4  42,11%\n",
              "13   14º    Fluminense  46  38  12  10  16  38  46  -8  40,35%\n",
              "14   15º      Botafogo  43  38  13   4  21  31  45 -14  37,72%\n",
              "15   16º         Ceará  39  38  10   9  19  36  41  -5  34,21%\n",
              "16   17º      Cruzeiro  36  38   7  15  16  27  46 -19  31,58%\n",
              "17   18º           CSA  32  38   8   8  22  24  58 -34  28,07%\n",
              "18   19º   Chapecoense  32  38   7  11  20  31  52 -21  28,07%\n",
              "19   20º          Avaí  20  38   3  11  24  18  62 -44  17,54%"
            ]
          },
          "metadata": {
            "tags": []
          },
          "execution_count": 2
        }
      ]
    },
    {
      "cell_type": "code",
      "metadata": {
        "colab": {
          "base_uri": "https://localhost:8080/",
          "height": 487
        },
        "id": "HSDGsdTN6WXL",
        "outputId": "32a038b5-aab5-454e-a25d-cf9da5c2d05f"
      },
      "source": [
        "import seaborn as sn\n",
        "import matplotlib.pyplot as plt\n",
        "\n",
        "f, ax = plt.subplots(figsize=(11,8));\n",
        "sn.heatmap(futebol[['PG','V','E','D','GP','GC','SG']].corr(), annot=True, ax=ax)\n",
        "plt.show()\n",
        "#MATRIZ DE CORRELAÇÃO"
      ],
      "execution_count": 11,
      "outputs": [
        {
          "output_type": "display_data",
          "data": {
            "image/png": "[encoded data removed]",
            "text/plain": [
              "<Figure size 792x576 with 2 Axes>"
            ]
          },
          "metadata": {
            "tags": [],
            "needs_background": "light"
          }
        }
      ]
    },
    {
      "cell_type": "markdown",
      "metadata": {
        "id": "kI6Y2IRi59-U"
      },
      "source": [
        "### Correlação entre Pontos e gols marcados"
      ]
    },
    {
      "cell_type": "code",
      "metadata": {
        "id": "zDBDWWx759-U",
        "colab": {
          "base_uri": "https://localhost:8080/"
        },
        "outputId": "d677587b-12e6-4f18-8608-20aaffef83a5"
      },
      "source": [
        "futebol.corr()['PG']['GP']"
      ],
      "execution_count": 13,
      "outputs": [
        {
          "output_type": "execute_result",
          "data": {
            "text/plain": [
              "0.9332090113976432"
            ]
          },
          "metadata": {
            "tags": []
          },
          "execution_count": 13
        }
      ]
    },
    {
      "cell_type": "markdown",
      "metadata": {
        "id": "vTaAWMmq59-V"
      },
      "source": [
        "### Correlação entre Pontos e gols sofridos"
      ]
    },
    {
      "cell_type": "code",
      "metadata": {
        "id": "7BbxeWBr59-V",
        "colab": {
          "base_uri": "https://localhost:8080/"
        },
        "outputId": "1cd27570-1fa3-411f-e651-a39cde0d97b3"
      },
      "source": [
        "futebol.corr()['PG']['GC']"
      ],
      "execution_count": 14,
      "outputs": [
        {
          "output_type": "execute_result",
          "data": {
            "text/plain": [
              "-0.7201402199451842"
            ]
          },
          "metadata": {
            "tags": []
          },
          "execution_count": 14
        }
      ]
    },
    {
      "cell_type": "markdown",
      "metadata": {
        "id": "Jh2Xf4HL59-V"
      },
      "source": [
        "### Análise dos Resultados\n",
        "\n",
        "Qual o nível (fraco, moderado, forte) das correlações entre as variáveis analisadas?"
      ]
    },
    {
      "cell_type": "markdown",
      "metadata": {
        "id": "3oPzqJPc59-V"
      },
      "source": [
        "R:a correlação entre pontos e gols marcados é alta e positiva, e a correlação entre pontos e gols sofridos é alta e negativa"
      ]
    },
    {
      "cell_type": "markdown",
      "metadata": {
        "id": "Y9dCTI2Z59-V"
      },
      "source": [
        "De acordo com os dados analisados, é melhor um time focar em marcar mais gols ou sofrer menos gols?"
      ]
    },
    {
      "cell_type": "markdown",
      "metadata": {
        "id": "Y7QM_qPj59-V"
      },
      "source": [
        "R: é bem melhor o time focar em fazer mais gols do que levar gols."
      ]
    }
  ]
}