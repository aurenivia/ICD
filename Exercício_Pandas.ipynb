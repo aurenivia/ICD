{
  "nbformat": 4,
  "nbformat_minor": 0,
  "metadata": {
    "kernelspec": {
      "display_name": "icd",
      "language": "python",
      "name": "icd"
    },
    "language_info": {
      "codemirror_mode": {
        "name": "ipython",
        "version": 3
      },
      "file_extension": ".py",
      "mimetype": "text/x-python",
      "name": "python",
      "nbconvert_exporter": "python",
      "pygments_lexer": "ipython3",
      "version": "3.7.7"
    },
    "colab": {
      "name": "Exercício - Pandas.ipynb",
      "provenance": [],
      "toc_visible": true
    }
  },
  "cells": [
    {
      "cell_type": "markdown",
      "metadata": {
        "id": "k3qqXwK-p6RS"
      },
      "source": [
        "# Introdução à Ciência de Dados - UFPB\n",
        "Professor: Yuri Malheiros\n",
        "\n",
        "Aluna: Aurenívia Gomes da Costa \n",
        "\n",
        "## Pandas"
      ]
    },
    {
      "cell_type": "code",
      "metadata": {
        "id": "aHOv7sKTp9am"
      },
      "source": [
        "import pandas as pd\n",
        "\n",
        "movies = pd.read_csv(\"movies.csv\")"
      ],
      "execution_count": 1,
      "outputs": []
    },
    {
      "cell_type": "markdown",
      "metadata": {
        "id": "uXstKJb3p6RT"
      },
      "source": [
        "A partir do dataset `movies.csv` utilize o Pandas para responder as seguintes perguntas:"
      ]
    },
    {
      "cell_type": "markdown",
      "metadata": {
        "id": "CTv2FATrp6RT"
      },
      "source": [
        "### Qual o gênero de filme mais lucrativo em todo o mundo?"
      ]
    },
    {
      "cell_type": "code",
      "metadata": {
        "id": "kCQumf0Ip6RT",
        "outputId": "ae260580-133d-4e87-f3c7-cc31ed7fa30f",
        "colab": {
          "base_uri": "https://localhost:8080/"
        }
      },
      "source": [
        "genero_mais_lucrativo = movies\\\n",
        ".groupby(\"Major Genre\")\\\n",
        ".sum()\\\n",
        ".sort_values(by=\"Worldwide Gross\", ascending=False)\\\n",
        ".head(1)\\\n",
        "['Worldwide Gross']\n",
        "\n",
        "print(f\"\"\"\n",
        "O gênero mais lucrativo é {genero_mais_lucrativo.index[0]}, \n",
        "que faturou um total de {genero_mais_lucrativo[0]} dólares\n",
        "\"\"\")"
      ],
      "execution_count": 49,
      "outputs": [
        {
          "output_type": "stream",
          "text": [
            "\n",
            "O gênero mais lucrativo é Adventure, \n",
            "que faturou um total de 66080959632.0 dólares\n",
            "\n"
          ],
          "name": "stdout"
        }
      ]
    },
    {
      "cell_type": "markdown",
      "metadata": {
        "id": "NmT_XMF9p6RT"
      },
      "source": [
        "### Qual o diretor dirigiu mais filmes?"
      ]
    },
    {
      "cell_type": "code",
      "metadata": {
        "id": "29BtHbRbp6RT",
        "outputId": "6f40f89d-d408-4cfc-e5bb-5197827b36c7",
        "colab": {
          "base_uri": "https://localhost:8080/"
        }
      },
      "source": [
        "diretor = movies\\\n",
        ".groupby(\"Director\")\\\n",
        ".count()\\\n",
        ".sort_values(\"Title\", ascending=False)\\\n",
        ".head(1)\\\n",
        "['Title']\n",
        "\n",
        "print(f\"\"\"\n",
        "O Diretor que dirigiu mais filmes foi {diretor.index[0]}, \n",
        "que dirigiu um total de {diretor[0]} filmes.\n",
        "\"\"\")"
      ],
      "execution_count": 68,
      "outputs": [
        {
          "output_type": "stream",
          "text": [
            "\n",
            "O Diretor que dirigiu mais filmes foi é Steven Spielberg, \n",
            "que dirigiu um total de 23 filmes.\n",
            "\n"
          ],
          "name": "stdout"
        }
      ]
    },
    {
      "cell_type": "markdown",
      "metadata": {
        "id": "4YtMzB1fp6RT"
      },
      "source": [
        "### Quais filmes tiverem os maiores arrecadações (Gross) em relação ao orçamento de produção (Budget)?"
      ]
    },
    {
      "cell_type": "code",
      "metadata": {
        "id": "uneMf_Lxp6RT",
        "outputId": "686d9065-caec-4d7a-887a-7adee4ca98ab",
        "colab": {
          "base_uri": "https://localhost:8080/"
        }
      },
      "source": [
        "#criar nova coluna gross/budget\n",
        "movies['Gross/Budget'] = movies['Worldwide Gross'] / movies['Production Budget']\n",
        "\n",
        "#ordenar os filmes \n",
        "\n",
        "print(\"Filmes com maior Ratio entre Arrecadação e Produção\")\n",
        "movies\\\n",
        ".sort_values(by='Gross/Budget', ascending=False)\\\n",
        ".set_index(\"Title\")\\\n",
        ".head(5)\\\n",
        "['Gross/Budget'].round(2)\n"
      ],
      "execution_count": 86,
      "outputs": [
        {
          "output_type": "stream",
          "text": [
            "Filmes com maior Ratio entre Arrecadação e Produção\n"
          ],
          "name": "stdout"
        },
        {
          "output_type": "execute_result",
          "data": {
            "text/plain": [
              "Title\n",
              "Paranormal Activity    12918.03\n",
              "Tarnation               5330.34\n",
              "Deep Throat             1800.00\n",
              "Mad Max                  498.75\n",
              "Super Size Me            454.30\n",
              "Name: Gross/Budget, dtype: float64"
            ]
          },
          "metadata": {
            "tags": []
          },
          "execution_count": 86
        }
      ]
    }
  ]
}