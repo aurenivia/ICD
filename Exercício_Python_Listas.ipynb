{
  "nbformat": 4,
  "nbformat_minor": 0,
  "metadata": {
    "kernelspec": {
      "display_name": "icd",
      "language": "python",
      "name": "icd"
    },
    "language_info": {
      "codemirror_mode": {
        "name": "ipython",
        "version": 3
      },
      "file_extension": ".py",
      "mimetype": "text/x-python",
      "name": "python",
      "nbconvert_exporter": "python",
      "pygments_lexer": "ipython3",
      "version": "3.7.7"
    },
    "colab": {
      "name": "Exercício - Python - Listas.ipynb",
      "provenance": []
    }
  },
  "cells": [
    {
      "cell_type": "markdown",
      "metadata": {
        "id": "tWkJ4vm-DeO-"
      },
      "source": [
        "# Introdução à Ciência de Dados - UFPB\n",
        "Professor: Yuri Malheiros\n",
        "\n",
        "Aluna: Aurenívia Gomes da Costa\n",
        "\n",
        "## Python - Listas - Exercício"
      ]
    },
    {
      "cell_type": "markdown",
      "metadata": {
        "id": "DBZ3bC0kDePA"
      },
      "source": [
        "Utilizando o resultado do processamento da lista de músicas, vamos implementar duas funções."
      ]
    },
    {
      "cell_type": "code",
      "metadata": {
        "id": "-lq7GN4uDePB"
      },
      "source": [
        "top_10 = [\"Tones and I - Dance Monkey\", \"Lady Gaga, Ariana Grande - Rain on Me\",\n",
        "          \"Justin Bieber - Yummy\", \"MISCHO - Photon Love\", \"Dua Lipa - Break My Heart\",\n",
        "          \"Lady Gaga, BLACKPINK - Sour Candy\", \"Dua Lipa - Don't Start Now\",\n",
        "          \"Justin Bieber, Quavo - Intentions\", \"Doja Cat - Say So\",\n",
        "          \"Karol G, Nicki Minaj - Tusa\", \"Benee, Gus Dapperton - Supalonely\"]"
      ],
      "execution_count": 1,
      "outputs": []
    },
    {
      "cell_type": "code",
      "metadata": {
        "id": "_8e9akEZDePF",
        "outputId": "64410f9f-bd2d-4c66-c8bf-6ba8aa34c028",
        "colab": {
          "base_uri": "https://localhost:8080/",
          "height": 204
        }
      },
      "source": [
        "top_10_dict = [{\"artist\": x.split(\" - \")[0], \"song\": x.split(\" - \")[1]} for x in top_10]\n",
        "top_10_dict"
      ],
      "execution_count": 2,
      "outputs": [
        {
          "output_type": "execute_result",
          "data": {
            "text/plain": [
              "[{'artist': 'Tones and I', 'song': 'Dance Monkey'},\n",
              " {'artist': 'Lady Gaga, Ariana Grande', 'song': 'Rain on Me'},\n",
              " {'artist': 'Justin Bieber', 'song': 'Yummy'},\n",
              " {'artist': 'MISCHO', 'song': 'Photon Love'},\n",
              " {'artist': 'Dua Lipa', 'song': 'Break My Heart'},\n",
              " {'artist': 'Lady Gaga, BLACKPINK', 'song': 'Sour Candy'},\n",
              " {'artist': 'Dua Lipa', 'song': \"Don't Start Now\"},\n",
              " {'artist': 'Justin Bieber, Quavo', 'song': 'Intentions'},\n",
              " {'artist': 'Doja Cat', 'song': 'Say So'},\n",
              " {'artist': 'Karol G, Nicki Minaj', 'song': 'Tusa'},\n",
              " {'artist': 'Benee, Gus Dapperton', 'song': 'Supalonely'}]"
            ]
          },
          "metadata": {
            "tags": []
          },
          "execution_count": 2
        }
      ]
    },
    {
      "cell_type": "markdown",
      "metadata": {
        "id": "lxZUfOrbDePI"
      },
      "source": [
        "As funções possuem um comentário de doctest que serve para testá-la. Por favor, não apague o comentário após a a definição da função.\n",
        "\n",
        "Você pode conferir se a implementação está correta executando a última célula deste notebook."
      ]
    },
    {
      "cell_type": "markdown",
      "metadata": {
        "id": "7OG0lCAuDePI"
      },
      "source": [
        "A função `get_songs` vai receber a lista `top_10_dict` como parâmetro. Escreva o código para que ela retorne uma lista com todas as músicas:"
      ]
    },
    {
      "cell_type": "code",
      "metadata": {
        "id": "bPheRLQYDePJ"
      },
      "source": [
        "def get_songs(music_dict):\n",
        "    \"\"\"\n",
        "    >>> get_songs(top_10_dict)\n",
        "    ['Dance Monkey', 'Rain on Me', 'Yummy', 'Photon Love', 'Break My Heart', 'Sour Candy', \"Don't Start Now\", 'Intentions', 'Say So', 'Tusa', 'Supalonely']\n",
        "    \"\"\"\n",
        "\n",
        "    # ADICIONE O SEU CÓDIGO AQUI\n",
        "    return [i['song'] for i in music_dict]"
      ],
      "execution_count": 11,
      "outputs": []
    },
    {
      "cell_type": "code",
      "metadata": {
        "id": "fK6S0Fg6DePL",
        "outputId": "802d2903-441e-4fb4-e1a9-d1a456f9468b",
        "colab": {
          "base_uri": "https://localhost:8080/",
          "height": 204
        }
      },
      "source": [
        "get_songs(top_10_dict)"
      ],
      "execution_count": 12,
      "outputs": [
        {
          "output_type": "execute_result",
          "data": {
            "text/plain": [
              "['Dance Monkey',\n",
              " 'Rain on Me',\n",
              " 'Yummy',\n",
              " 'Photon Love',\n",
              " 'Break My Heart',\n",
              " 'Sour Candy',\n",
              " \"Don't Start Now\",\n",
              " 'Intentions',\n",
              " 'Say So',\n",
              " 'Tusa',\n",
              " 'Supalonely']"
            ]
          },
          "metadata": {
            "tags": []
          },
          "execution_count": 12
        }
      ]
    },
    {
      "cell_type": "markdown",
      "metadata": {
        "id": "k86Ab0nWDePO"
      },
      "source": [
        "A função `get_artists` vai receber a lista `top_10_dict` como parâmetro. Escreva o código para que ela retorne uma lista com todos os artistas. Atenção, algumas músicas possuem mais de um artista, eles são separados por vírgula. A função abaixo deve separar os artistas."
      ]
    },
    {
      "cell_type": "code",
      "metadata": {
        "id": "hR_SchyADePO"
      },
      "source": [
        "def get_artists(music_dict):\n",
        "    \"\"\"\n",
        "    >>> get_artists(top_10_dict)\n",
        "    ['Tones and I', 'Lady Gaga', 'Ariana Grande', 'Justin Bieber', 'MISCHO', 'Dua Lipa', 'Lady Gaga', 'BLACKPINK', 'Dua Lipa', 'Justin Bieber', 'Quavo', 'Doja Cat', 'Karol G', 'Nicki Minaj', 'Benee', 'Gus Dapperton']\n",
        "    \"\"\"\n",
        "\n",
        "    # ADICIONE O SEU CÓDIGO AQUI \n",
        "    artists = []\n",
        "    for music in music_dict:\n",
        "      for i in music['artist'].split(','):\n",
        "        artists.append(i.strip());\n",
        "    return artists"
      ],
      "execution_count": 30,
      "outputs": []
    },
    {
      "cell_type": "code",
      "metadata": {
        "id": "JtSVvFBXDePU",
        "outputId": "27da22bc-c210-4c0a-84c6-97fcf0eb0aaa",
        "colab": {
          "base_uri": "https://localhost:8080/",
          "height": 289
        }
      },
      "source": [
        "get_artists(top_10_dict)"
      ],
      "execution_count": 31,
      "outputs": [
        {
          "output_type": "execute_result",
          "data": {
            "text/plain": [
              "['Tones and I',\n",
              " 'Lady Gaga',\n",
              " 'Ariana Grande',\n",
              " 'Justin Bieber',\n",
              " 'MISCHO',\n",
              " 'Dua Lipa',\n",
              " 'Lady Gaga',\n",
              " 'BLACKPINK',\n",
              " 'Dua Lipa',\n",
              " 'Justin Bieber',\n",
              " 'Quavo',\n",
              " 'Doja Cat',\n",
              " 'Karol G',\n",
              " 'Nicki Minaj',\n",
              " 'Benee',\n",
              " 'Gus Dapperton']"
            ]
          },
          "metadata": {
            "tags": []
          },
          "execution_count": 31
        }
      ]
    },
    {
      "cell_type": "markdown",
      "metadata": {
        "id": "YfxPNfy8DePX"
      },
      "source": [
        "## Teste"
      ]
    },
    {
      "cell_type": "code",
      "metadata": {
        "id": "RT00FQ4qDePY",
        "outputId": "24b004d3-e775-40ed-ba4b-6577338bf4e8",
        "colab": {
          "base_uri": "https://localhost:8080/",
          "height": 340
        }
      },
      "source": [
        "import doctest\n",
        "\n",
        "doctest.testmod(verbose=True)"
      ],
      "execution_count": 32,
      "outputs": [
        {
          "output_type": "stream",
          "text": [
            "Trying:\n",
            "    get_artists(top_10_dict)\n",
            "Expecting:\n",
            "    ['Tones and I', 'Lady Gaga', 'Ariana Grande', 'Justin Bieber', 'MISCHO', 'Dua Lipa', 'Lady Gaga', 'BLACKPINK', 'Dua Lipa', 'Justin Bieber', 'Quavo', 'Doja Cat', 'Karol G', 'Nicki Minaj', 'Benee', 'Gus Dapperton']\n",
            "ok\n",
            "Trying:\n",
            "    get_songs(top_10_dict)\n",
            "Expecting:\n",
            "    ['Dance Monkey', 'Rain on Me', 'Yummy', 'Photon Love', 'Break My Heart', 'Sour Candy', \"Don't Start Now\", 'Intentions', 'Say So', 'Tusa', 'Supalonely']\n",
            "ok\n",
            "1 items had no tests:\n",
            "    __main__\n",
            "2 items passed all tests:\n",
            "   1 tests in __main__.get_artists\n",
            "   1 tests in __main__.get_songs\n",
            "2 tests in 3 items.\n",
            "2 passed and 0 failed.\n",
            "Test passed.\n"
          ],
          "name": "stdout"
        },
        {
          "output_type": "execute_result",
          "data": {
            "text/plain": [
              "TestResults(failed=0, attempted=2)"
            ]
          },
          "metadata": {
            "tags": []
          },
          "execution_count": 32
        }
      ]
    }
  ]
}