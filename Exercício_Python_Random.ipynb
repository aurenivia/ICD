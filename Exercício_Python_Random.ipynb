{
  "nbformat": 4,
  "nbformat_minor": 0,
  "metadata": {
    "kernelspec": {
      "display_name": "icd",
      "language": "python",
      "name": "icd"
    },
    "language_info": {
      "codemirror_mode": {
        "name": "ipython",
        "version": 3
      },
      "file_extension": ".py",
      "mimetype": "text/x-python",
      "name": "python",
      "nbconvert_exporter": "python",
      "pygments_lexer": "ipython3",
      "version": "3.7.7"
    },
    "colab": {
      "name": "Exercício - Python - Random.ipynb",
      "provenance": []
    }
  },
  "cells": [
    {
      "cell_type": "markdown",
      "metadata": {
        "id": "CyQAZNSNJVIW"
      },
      "source": [
        "# Introdução à Ciência de Dados - UFPB\n",
        "Professor: Yuri Malheiros\n",
        "\n",
        "Aluna: Aurenívia Gomes da Costa\n",
        "\n",
        "## Python - Random - Exercício"
      ]
    },
    {
      "cell_type": "markdown",
      "metadata": {
        "id": "UtDFK7fTJVIW"
      },
      "source": [
        "Implemente a função `generate_password` que deve gerar uma senha aleatória.\n",
        "\n",
        "A função tem tres parâmetros:\n",
        "\n",
        "- `n_chars` especifica o tamanho da senha gerada\n",
        "- `use_numbers` especifica se números podem ser usados na senha. Por padrão, esse parâmetro tem valor True\n",
        "- `use_special_chars` especifica se caracteres especiais, por exemplo !#%&@?, pode ser usados na senha. Por padrão, esse parâmetro tem valor True\n",
        "\n",
        "Note que se `use_numbers` e `use_special_chars` tiverem valor False, a senha terá apenas letras maiúsculas ou minúsculas."
      ]
    },
    {
      "cell_type": "code",
      "metadata": {
        "id": "xzb1_OqAJVIX"
      },
      "source": [
        "import random\n",
        "\n",
        "def generate_password(n_chars, use_numbers=True, use_special_chars=True):\n",
        "    # ADICIONE O SEU CÓDIGO \n",
        "    characters = 'abcdefghijklmnopqrstuvwxyzABCDEFGHIJKLMNOPQRSTUVWXYZ'\n",
        "    if use_numbers:\n",
        "      characters += '0123456789'\n",
        "    if use_special_chars:\n",
        "      characters += '!#%&@?'\n",
        "\n",
        "    return [random.choice(characters) for i in range(n_chars)]\n"
      ],
      "execution_count": 18,
      "outputs": []
    },
    {
      "cell_type": "code",
      "metadata": {
        "id": "XZ_RsE7cJVIa",
        "outputId": "29567b41-8868-4937-db69-261e6acea0b4",
        "colab": {
          "base_uri": "https://localhost:8080/",
          "height": 68
        }
      },
      "source": [
        "print(generate_password(10))\n",
        "print(generate_password(10, use_numbers=False))\n",
        "print(generate_password(10, use_numbers=False, use_special_chars=False))"
      ],
      "execution_count": 21,
      "outputs": [
        {
          "output_type": "stream",
          "text": [
            "['r', '1', '5', 'v', 'V', 'f', 'a', 'g', 'L', 'D']\n",
            "['x', 'Z', 'D', 'c', 'V', 'F', 'E', 'p', 'm', '!']\n",
            "['Y', 'Q', 'U', 'B', 'K', 'm', 'l', 'p', 'D', 'D']\n"
          ],
          "name": "stdout"
        }
      ]
    }
  ]
}