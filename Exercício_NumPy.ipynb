{
  "nbformat": 4,
  "nbformat_minor": 0,
  "metadata": {
    "kernelspec": {
      "display_name": "icd",
      "language": "python",
      "name": "icd"
    },
    "language_info": {
      "codemirror_mode": {
        "name": "ipython",
        "version": 3
      },
      "file_extension": ".py",
      "mimetype": "text/x-python",
      "name": "python",
      "nbconvert_exporter": "python",
      "pygments_lexer": "ipython3",
      "version": "3.7.7"
    },
    "colab": {
      "name": "Exercício - NumPy.ipynb",
      "provenance": []
    }
  },
  "cells": [
    {
      "cell_type": "markdown",
      "metadata": {
        "id": "cF1l_eqqoTc-"
      },
      "source": [
        "# Introdução à Ciência de Dados - UFPB\n",
        "Professor: Yuri Malheiros\n",
        "Aluna: Aurenívia Gomes da Costa\n",
        "## NumPy"
      ]
    },
    {
      "cell_type": "markdown",
      "metadata": {
        "id": "PLn3fpYGoTc_"
      },
      "source": [
        "Implemente a função `distance` abaixo. Ela deve receber dois pontos e retornar a distância euclidiana entre eles. Cada ponto é representado por um array do NumPy, por exemplo, `p1 = np.array([2,4])` representa o ponto com coordenadas x=2 e y=2."
      ]
    },
    {
      "cell_type": "code",
      "metadata": {
        "id": "FBsr9Oe5oTc_"
      },
      "source": [
        "import numpy as np\n",
        "\n",
        "def distance(p1, p2):\n",
        "\n",
        "    \"\"\"\n",
        "    >>> distance(np.array([0,0]), np.array([1,1]))\n",
        "    1.4142135623730951\n",
        "    \n",
        "    >>> distance(np.array([1,2]), np.array([3,4]))\n",
        "    2.8284271247461903\n",
        "    \n",
        "    >>> distance(np.array([5,2]), np.array([-2,-1]))\n",
        "    7.615773105863909\n",
        "    \"\"\"\n",
        "\n",
        "    # ADICIONE O SEU CÓDIGO AQUI\n",
        "    return np.sqrt(np.sum((p2-p1)**2))"
      ],
      "execution_count": null,
      "outputs": []
    },
    {
      "cell_type": "markdown",
      "metadata": {
        "id": "6mFzsMeIoTc_"
      },
      "source": [
        "Implemente a função `n_distances` abaixo. Ela recebe um ponto (`p1`), como um array do NumPy, e uma lista de pontos (`points`), uma matriz do NumPy, onde cada linha representa um ponto.\n",
        "\n",
        "Esta função deve retornar a distância de `p1` para todos os pontos da matriz `points`. O retorno também é uma matriz, onde cada linha tem a distância de `p1` para o ponto daquela linha."
      ]
    },
    {
      "cell_type": "code",
      "metadata": {
        "id": "C3o7flkooTc_"
      },
      "source": [
        "def n_distances(p1, points):\n",
        "    \"\"\"\n",
        "    >>> n_distances(np.array([0,0]), np.array([[1,1]]))\n",
        "    array([1.41421356])\n",
        "    \n",
        "    >>> n_distances(np.array([0,0]), np.array([[1,1], [2,2]]))\n",
        "    array([1.41421356, 2.82842712])\n",
        "    \n",
        "    >>> n_distances(np.array([1,2]), np.array([[3,-1], [2,1], [5, 2], [10, 1], [-2, -5]]))\n",
        "    array([3.60555128, 1.41421356, 4.        , 9.05538514, 7.61577311])\n",
        "    \"\"\"\n",
        "\n",
        "    \n",
        "    # ADICIONE O SEU CÓDIGO AQUI\n",
        "    return np.array([distance(p1, p) for p in points])"
      ],
      "execution_count": null,
      "outputs": []
    },
    {
      "cell_type": "markdown",
      "metadata": {
        "id": "Bj8JNOepoTdA"
      },
      "source": [
        "## Teste"
      ]
    },
    {
      "cell_type": "code",
      "metadata": {
        "id": "TSsIMlX2oTdA",
        "colab": {
          "base_uri": "https://localhost:8080/"
        },
        "outputId": "fe5a7126-9e95-4748-94b4-40247141ed69"
      },
      "source": [
        "import doctest\n",
        "\n",
        "doctest.testmod(verbose=True)"
      ],
      "execution_count": null,
      "outputs": [
        {
          "output_type": "stream",
          "text": [
            "Trying:\n",
            "    distance(np.array([0,0]), np.array([1,1]))\n",
            "Expecting:\n",
            "    1.4142135623730951\n",
            "ok\n",
            "Trying:\n",
            "    distance(np.array([1,2]), np.array([3,4]))\n",
            "Expecting:\n",
            "    2.8284271247461903\n",
            "ok\n",
            "Trying:\n",
            "    distance(np.array([5,2]), np.array([-2,-1]))\n",
            "Expecting:\n",
            "    7.615773105863909\n",
            "ok\n",
            "Trying:\n",
            "    n_distances(np.array([0,0]), np.array([[1,1]]))\n",
            "Expecting:\n",
            "    array([1.41421356])\n",
            "ok\n",
            "Trying:\n",
            "    n_distances(np.array([0,0]), np.array([[1,1], [2,2]]))\n",
            "Expecting:\n",
            "    array([1.41421356, 2.82842712])\n",
            "ok\n",
            "Trying:\n",
            "    n_distances(np.array([1,2]), np.array([[3,-1], [2,1], [5, 2], [10, 1], [-2, -5]]))\n",
            "Expecting:\n",
            "    array([3.60555128, 1.41421356, 4.        , 9.05538514, 7.61577311])\n",
            "ok\n",
            "1 items had no tests:\n",
            "    __main__\n",
            "2 items passed all tests:\n",
            "   3 tests in __main__.distance\n",
            "   3 tests in __main__.n_distances\n",
            "6 tests in 3 items.\n",
            "6 passed and 0 failed.\n",
            "Test passed.\n"
          ],
          "name": "stdout"
        },
        {
          "output_type": "execute_result",
          "data": {
            "text/plain": [
              "TestResults(failed=0, attempted=6)"
            ]
          },
          "metadata": {
            "tags": []
          },
          "execution_count": 6
        }
      ]
    }
  ]
}