{
  "nbformat": 4,
  "nbformat_minor": 0,
  "metadata": {
    "kernelspec": {
      "display_name": "icd",
      "language": "python",
      "name": "icd"
    },
    "language_info": {
      "codemirror_mode": {
        "name": "ipython",
        "version": 3
      },
      "file_extension": ".py",
      "mimetype": "text/x-python",
      "name": "python",
      "nbconvert_exporter": "python",
      "pygments_lexer": "ipython3",
      "version": "3.7.7"
    },
    "colab": {
      "name": "Exercício - Medidas de Centralidade e Dispersão.ipynb",
      "provenance": [],
      "toc_visible": true
    }
  },
  "cells": [
    {
      "cell_type": "markdown",
      "metadata": {
        "id": "8K_t28RGwaC4"
      },
      "source": [
        "# Introdução à Ciência de Dados - UFPB\n",
        "Professor: Yuri Malheiros\n",
        "\n",
        "Aluna: Aurenívia Gomes da Costa\n",
        "## Medidas de Centralidade e Dispersão"
      ]
    },
    {
      "cell_type": "markdown",
      "metadata": {
        "id": "bzHUMAvewaC4"
      },
      "source": [
        "A partir do dataset `movies.csv` calcule a média, mediana e desvio padrão para as colunas:"
      ]
    },
    {
      "cell_type": "code",
      "metadata": {
        "id": "cHbr36j0wilI",
        "outputId": "19a0b071-0539-4021-8458-f119ea2c6eb4",
        "colab": {
          "base_uri": "https://localhost:8080/",
          "height": 708
        }
      },
      "source": [
        "import pandas as pd\n",
        "\n",
        "movies = pd.read_csv(\"movies.csv\")\n",
        "movies"
      ],
      "execution_count": 3,
      "outputs": [
        {
          "output_type": "execute_result",
          "data": {
            "text/html": [
              "<div>\n",
              "<style scoped>\n",
              "    .dataframe tbody tr th:only-of-type {\n",
              "        vertical-align: middle;\n",
              "    }\n",
              "\n",
              "    .dataframe tbody tr th {\n",
              "        vertical-align: top;\n",
              "    }\n",
              "\n",
              "    .dataframe thead th {\n",
              "        text-align: right;\n",
              "    }\n",
              "</style>\n",
              "<table border=\"1\" class=\"dataframe\">\n",
              "  <thead>\n",
              "    <tr style=\"text-align: right;\">\n",
              "      <th></th>\n",
              "      <th>Title</th>\n",
              "      <th>US Gross</th>\n",
              "      <th>Worldwide Gross</th>\n",
              "      <th>US DVD Sales</th>\n",
              "      <th>Production Budget</th>\n",
              "      <th>Release Date</th>\n",
              "      <th>MPAA Rating</th>\n",
              "      <th>Running Time (min)</th>\n",
              "      <th>Distributor</th>\n",
              "      <th>Source</th>\n",
              "      <th>Major Genre</th>\n",
              "      <th>Creative Type</th>\n",
              "      <th>Director</th>\n",
              "      <th>Rotten Tomatoes Rating</th>\n",
              "      <th>IMDB Rating</th>\n",
              "      <th>IMDB Votes</th>\n",
              "    </tr>\n",
              "  </thead>\n",
              "  <tbody>\n",
              "    <tr>\n",
              "      <th>0</th>\n",
              "      <td>The Land Girls</td>\n",
              "      <td>146083.0</td>\n",
              "      <td>146083.0</td>\n",
              "      <td>NaN</td>\n",
              "      <td>8000000.0</td>\n",
              "      <td>12-Jun-98</td>\n",
              "      <td>R</td>\n",
              "      <td>NaN</td>\n",
              "      <td>Gramercy</td>\n",
              "      <td>NaN</td>\n",
              "      <td>NaN</td>\n",
              "      <td>NaN</td>\n",
              "      <td>NaN</td>\n",
              "      <td>NaN</td>\n",
              "      <td>6.1</td>\n",
              "      <td>1071.0</td>\n",
              "    </tr>\n",
              "    <tr>\n",
              "      <th>1</th>\n",
              "      <td>First Love, Last Rites</td>\n",
              "      <td>10876.0</td>\n",
              "      <td>10876.0</td>\n",
              "      <td>NaN</td>\n",
              "      <td>300000.0</td>\n",
              "      <td>7-Aug-98</td>\n",
              "      <td>R</td>\n",
              "      <td>NaN</td>\n",
              "      <td>Strand</td>\n",
              "      <td>NaN</td>\n",
              "      <td>Drama</td>\n",
              "      <td>NaN</td>\n",
              "      <td>NaN</td>\n",
              "      <td>NaN</td>\n",
              "      <td>6.9</td>\n",
              "      <td>207.0</td>\n",
              "    </tr>\n",
              "    <tr>\n",
              "      <th>2</th>\n",
              "      <td>I Married a Strange Person</td>\n",
              "      <td>203134.0</td>\n",
              "      <td>203134.0</td>\n",
              "      <td>NaN</td>\n",
              "      <td>250000.0</td>\n",
              "      <td>28-Aug-98</td>\n",
              "      <td>NaN</td>\n",
              "      <td>NaN</td>\n",
              "      <td>Lionsgate</td>\n",
              "      <td>NaN</td>\n",
              "      <td>Comedy</td>\n",
              "      <td>NaN</td>\n",
              "      <td>NaN</td>\n",
              "      <td>NaN</td>\n",
              "      <td>6.8</td>\n",
              "      <td>865.0</td>\n",
              "    </tr>\n",
              "    <tr>\n",
              "      <th>3</th>\n",
              "      <td>Let's Talk About Sex</td>\n",
              "      <td>373615.0</td>\n",
              "      <td>373615.0</td>\n",
              "      <td>NaN</td>\n",
              "      <td>300000.0</td>\n",
              "      <td>11-Sep-98</td>\n",
              "      <td>NaN</td>\n",
              "      <td>NaN</td>\n",
              "      <td>Fine Line</td>\n",
              "      <td>NaN</td>\n",
              "      <td>Comedy</td>\n",
              "      <td>NaN</td>\n",
              "      <td>NaN</td>\n",
              "      <td>13.0</td>\n",
              "      <td>NaN</td>\n",
              "      <td>NaN</td>\n",
              "    </tr>\n",
              "    <tr>\n",
              "      <th>4</th>\n",
              "      <td>Slam</td>\n",
              "      <td>1009819.0</td>\n",
              "      <td>1087521.0</td>\n",
              "      <td>NaN</td>\n",
              "      <td>1000000.0</td>\n",
              "      <td>9-Oct-98</td>\n",
              "      <td>R</td>\n",
              "      <td>NaN</td>\n",
              "      <td>Trimark</td>\n",
              "      <td>Original Screenplay</td>\n",
              "      <td>Drama</td>\n",
              "      <td>Contemporary Fiction</td>\n",
              "      <td>NaN</td>\n",
              "      <td>62.0</td>\n",
              "      <td>3.4</td>\n",
              "      <td>165.0</td>\n",
              "    </tr>\n",
              "    <tr>\n",
              "      <th>...</th>\n",
              "      <td>...</td>\n",
              "      <td>...</td>\n",
              "      <td>...</td>\n",
              "      <td>...</td>\n",
              "      <td>...</td>\n",
              "      <td>...</td>\n",
              "      <td>...</td>\n",
              "      <td>...</td>\n",
              "      <td>...</td>\n",
              "      <td>...</td>\n",
              "      <td>...</td>\n",
              "      <td>...</td>\n",
              "      <td>...</td>\n",
              "      <td>...</td>\n",
              "      <td>...</td>\n",
              "      <td>...</td>\n",
              "    </tr>\n",
              "    <tr>\n",
              "      <th>3196</th>\n",
              "      <td>Zack and Miri Make a Porno</td>\n",
              "      <td>31452765.0</td>\n",
              "      <td>36851125.0</td>\n",
              "      <td>21240321.0</td>\n",
              "      <td>24000000.0</td>\n",
              "      <td>31-Oct-08</td>\n",
              "      <td>R</td>\n",
              "      <td>101.0</td>\n",
              "      <td>Weinstein Co.</td>\n",
              "      <td>Original Screenplay</td>\n",
              "      <td>Comedy</td>\n",
              "      <td>Contemporary Fiction</td>\n",
              "      <td>Kevin Smith</td>\n",
              "      <td>65.0</td>\n",
              "      <td>7.0</td>\n",
              "      <td>55687.0</td>\n",
              "    </tr>\n",
              "    <tr>\n",
              "      <th>3197</th>\n",
              "      <td>Zodiac</td>\n",
              "      <td>33080084.0</td>\n",
              "      <td>83080084.0</td>\n",
              "      <td>20983030.0</td>\n",
              "      <td>85000000.0</td>\n",
              "      <td>2-Mar-07</td>\n",
              "      <td>R</td>\n",
              "      <td>157.0</td>\n",
              "      <td>Paramount Pictures</td>\n",
              "      <td>Based on Book/Short Story</td>\n",
              "      <td>Thriller/Suspense</td>\n",
              "      <td>Dramatization</td>\n",
              "      <td>David Fincher</td>\n",
              "      <td>89.0</td>\n",
              "      <td>NaN</td>\n",
              "      <td>NaN</td>\n",
              "    </tr>\n",
              "    <tr>\n",
              "      <th>3198</th>\n",
              "      <td>Zoom</td>\n",
              "      <td>11989328.0</td>\n",
              "      <td>12506188.0</td>\n",
              "      <td>6679409.0</td>\n",
              "      <td>35000000.0</td>\n",
              "      <td>11-Aug-06</td>\n",
              "      <td>PG</td>\n",
              "      <td>NaN</td>\n",
              "      <td>Sony Pictures</td>\n",
              "      <td>Based on Comic/Graphic Novel</td>\n",
              "      <td>Adventure</td>\n",
              "      <td>Super Hero</td>\n",
              "      <td>Peter Hewitt</td>\n",
              "      <td>3.0</td>\n",
              "      <td>3.4</td>\n",
              "      <td>7424.0</td>\n",
              "    </tr>\n",
              "    <tr>\n",
              "      <th>3199</th>\n",
              "      <td>The Legend of Zorro</td>\n",
              "      <td>45575336.0</td>\n",
              "      <td>141475336.0</td>\n",
              "      <td>NaN</td>\n",
              "      <td>80000000.0</td>\n",
              "      <td>28-Oct-05</td>\n",
              "      <td>PG</td>\n",
              "      <td>129.0</td>\n",
              "      <td>Sony Pictures</td>\n",
              "      <td>Remake</td>\n",
              "      <td>Adventure</td>\n",
              "      <td>Historical Fiction</td>\n",
              "      <td>Martin Campbell</td>\n",
              "      <td>26.0</td>\n",
              "      <td>5.7</td>\n",
              "      <td>21161.0</td>\n",
              "    </tr>\n",
              "    <tr>\n",
              "      <th>3200</th>\n",
              "      <td>The Mask of Zorro</td>\n",
              "      <td>93828745.0</td>\n",
              "      <td>233700000.0</td>\n",
              "      <td>NaN</td>\n",
              "      <td>65000000.0</td>\n",
              "      <td>17-Jul-98</td>\n",
              "      <td>PG-13</td>\n",
              "      <td>136.0</td>\n",
              "      <td>Sony Pictures</td>\n",
              "      <td>Remake</td>\n",
              "      <td>Adventure</td>\n",
              "      <td>Historical Fiction</td>\n",
              "      <td>Martin Campbell</td>\n",
              "      <td>82.0</td>\n",
              "      <td>6.7</td>\n",
              "      <td>4789.0</td>\n",
              "    </tr>\n",
              "  </tbody>\n",
              "</table>\n",
              "<p>3201 rows × 16 columns</p>\n",
              "</div>"
            ],
            "text/plain": [
              "                           Title    US Gross  ...  IMDB Rating  IMDB Votes\n",
              "0                 The Land Girls    146083.0  ...          6.1      1071.0\n",
              "1         First Love, Last Rites     10876.0  ...          6.9       207.0\n",
              "2     I Married a Strange Person    203134.0  ...          6.8       865.0\n",
              "3           Let's Talk About Sex    373615.0  ...          NaN         NaN\n",
              "4                           Slam   1009819.0  ...          3.4       165.0\n",
              "...                          ...         ...  ...          ...         ...\n",
              "3196  Zack and Miri Make a Porno  31452765.0  ...          7.0     55687.0\n",
              "3197                      Zodiac  33080084.0  ...          NaN         NaN\n",
              "3198                        Zoom  11989328.0  ...          3.4      7424.0\n",
              "3199         The Legend of Zorro  45575336.0  ...          5.7     21161.0\n",
              "3200           The Mask of Zorro  93828745.0  ...          6.7      4789.0\n",
              "\n",
              "[3201 rows x 16 columns]"
            ]
          },
          "metadata": {
            "tags": []
          },
          "execution_count": 3
        }
      ]
    },
    {
      "cell_type": "markdown",
      "metadata": {
        "id": "9npErSx9waC4"
      },
      "source": [
        "### US Gross"
      ]
    },
    {
      "cell_type": "code",
      "metadata": {
        "id": "ZnIF0eqwwaC4",
        "outputId": "4d44c4b9-c56b-4ca2-c518-88f7b68d7d2e",
        "colab": {
          "base_uri": "https://localhost:8080/"
        }
      },
      "source": [
        "us_gross = movies['US Gross']\n",
        "print(f\"US GROSS - Média: {us_gross.mean()}, Mediana: {us_gross.median()}, Desvio Padrão {us_gross.std()}\")"
      ],
      "execution_count": 6,
      "outputs": [
        {
          "output_type": "stream",
          "text": [
            "US GROSS - Média: 44002085.163744524, Mediana: 22019465.5, Desvio Padrão 62555311.39066204\n"
          ],
          "name": "stdout"
        }
      ]
    },
    {
      "cell_type": "markdown",
      "metadata": {
        "id": "fnykCgmtwaC4"
      },
      "source": [
        "### Production Budget"
      ]
    },
    {
      "cell_type": "code",
      "metadata": {
        "id": "V_R1ZVtfwaC5",
        "outputId": "77c46d7e-b03b-4530-d912-16c12fd1fc53",
        "colab": {
          "base_uri": "https://localhost:8080/"
        }
      },
      "source": [
        "coluna = movies['Production Budget']\n",
        "print(f\"PRODUCTION BUDGET - Média: {coluna.mean()}, Mediana: {coluna.median()}, Desvio Padrão {coluna.std()}\")"
      ],
      "execution_count": 7,
      "outputs": [
        {
          "output_type": "stream",
          "text": [
            "PRODUCTION BUDGET - Média: 31069171.4484375, Mediana: 20000000.0, Desvio Padrão 35585913.44464446\n"
          ],
          "name": "stdout"
        }
      ]
    },
    {
      "cell_type": "markdown",
      "metadata": {
        "id": "l2VzEGMNwaC5"
      },
      "source": [
        "### Running Time"
      ]
    },
    {
      "cell_type": "code",
      "metadata": {
        "id": "QOWNl6VzwaC5",
        "outputId": "25685f7d-279c-41f0-889c-33ffd132f09c",
        "colab": {
          "base_uri": "https://localhost:8080/"
        }
      },
      "source": [
        "coluna = movies['Running Time (min)']\n",
        "print(f\"RUNNING TIME - Média: {coluna.mean()}, Mediana: {coluna.median()}, Desvio Padrão {coluna.std()}\")"
      ],
      "execution_count": 9,
      "outputs": [
        {
          "output_type": "stream",
          "text": [
            "RUNNING TIME - Média: 110.19354838709677, Mediana: 107.0, Desvio Padrão 20.171013677535424\n"
          ],
          "name": "stdout"
        }
      ]
    },
    {
      "cell_type": "markdown",
      "metadata": {
        "id": "6q2Oh8iHwaC5"
      },
      "source": [
        "### IMDB Rating"
      ]
    },
    {
      "cell_type": "code",
      "metadata": {
        "id": "FPXws7PRwaC5",
        "outputId": "dbd89271-6c20-4e4f-ce4b-27280d08d187",
        "colab": {
          "base_uri": "https://localhost:8080/"
        }
      },
      "source": [
        "coluna = movies['IMDB Rating']\n",
        "print(f\"IMDB Rating - Média: {coluna.mean()}, Mediana: {coluna.median()}, Desvio Padrão {coluna.std()}\")"
      ],
      "execution_count": 10,
      "outputs": [
        {
          "output_type": "stream",
          "text": [
            "IMDB Rating - Média: 6.283467202141896, Mediana: 6.4, Desvio Padrão 1.2522899386004838\n"
          ],
          "name": "stdout"
        }
      ]
    },
    {
      "cell_type": "markdown",
      "metadata": {
        "id": "pyS6Ln7ewaC5"
      },
      "source": [
        "### IMDB Votes"
      ]
    },
    {
      "cell_type": "code",
      "metadata": {
        "id": "RCFth40zwaC5",
        "outputId": "e8ee545b-9293-4d4b-8c86-cc352275ecb4",
        "colab": {
          "base_uri": "https://localhost:8080/"
        }
      },
      "source": [
        "coluna = movies['IMDB Votes']\n",
        "print(f\"IMDB Votes - Média: {coluna.mean()}, Mediana: {coluna.median()}, Desvio Padrão {coluna.std()}\")"
      ],
      "execution_count": 11,
      "outputs": [
        {
          "output_type": "stream",
          "text": [
            "IMDB Votes - Média: 29908.64457831325, Mediana: 15106.0, Desvio Padrão 44937.58233504965\n"
          ],
          "name": "stdout"
        }
      ]
    },
    {
      "cell_type": "markdown",
      "metadata": {
        "id": "M9Y886wVwaC5"
      },
      "source": [
        "### Análise dos Resultados\n",
        "\n",
        "Quais colunas tiveram valores muito diferentes entre média e mediana? Quais os seus desvios padrão?"
      ]
    },
    {
      "cell_type": "markdown",
      "metadata": {
        "id": "Mhj99UlewaC5"
      },
      "source": [
        "1.  US GROSS - 62555311.39066204\n",
        "2.  Production Budget - 35585913.44464446\n",
        "3.  IMDB Votes - 44937.58233504965\n",
        "\n",
        "\n",
        "\n"
      ]
    },
    {
      "cell_type": "markdown",
      "metadata": {
        "id": "uDSTPDYtwaC5"
      },
      "source": [
        "Que conclusões podemos tirar desses resultados?"
      ]
    },
    {
      "cell_type": "markdown",
      "metadata": {
        "id": "NXf202PLwaC5"
      },
      "source": [
        "Podemos concluir que esses dados estão espalhados em uma ampla gama de valores, e os dados são bastante heterogêneos"
      ]
    }
  ]
}