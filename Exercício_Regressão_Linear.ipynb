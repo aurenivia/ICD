{
  "nbformat": 4,
  "nbformat_minor": 0,
  "metadata": {
    "kernelspec": {
      "display_name": "icd",
      "language": "python",
      "name": "icd"
    },
    "language_info": {
      "codemirror_mode": {
        "name": "ipython",
        "version": 3
      },
      "file_extension": ".py",
      "mimetype": "text/x-python",
      "name": "python",
      "nbconvert_exporter": "python",
      "pygments_lexer": "ipython3",
      "version": "3.7.7"
    },
    "colab": {
      "name": "Exercício - Regressão Linear.ipynb",
      "provenance": [],
      "collapsed_sections": []
    }
  },
  "cells": [
    {
      "cell_type": "markdown",
      "metadata": {
        "id": "RC4G_n_B8v8j"
      },
      "source": [
        "# Introdução à Ciência de Dados - UFPB\n",
        "Professor: Yuri Malheiros\n",
        "\n",
        "Aluna: Aurenívia Gomes da Costa\n",
        "\n",
        "## Regressão Linear - Exercício"
      ]
    },
    {
      "cell_type": "markdown",
      "metadata": {
        "id": "lEUIre4b8v8k"
      },
      "source": [
        "Utilizando o dataset dos filmes, aplique a regressão linear para predizer o `US Gross` de acordo com o `Production Budget`."
      ]
    },
    {
      "cell_type": "markdown",
      "metadata": {
        "id": "-K8m-guM8v8k"
      },
      "source": [
        "Primeiro carregue os dados:"
      ]
    },
    {
      "cell_type": "code",
      "metadata": {
        "id": "vncrjT4j8v8k"
      },
      "source": [
        "import numpy as np\n",
        "import pandas as pd\n",
        "import seaborn as sn\n",
        "movies = pd.read_csv(\"movies.csv\")\\\n",
        "[['Production Budget', 'US Gross']]\\\n",
        ".dropna()"
      ],
      "execution_count": 62,
      "outputs": []
    },
    {
      "cell_type": "markdown",
      "metadata": {
        "id": "VL25tt3q8v8k"
      },
      "source": [
        "Visualize os dados com um gráfico de dispersão:"
      ]
    },
    {
      "cell_type": "code",
      "metadata": {
        "id": "S6JMvFI-8v8k",
        "colab": {
          "base_uri": "https://localhost:8080/",
          "height": 307
        },
        "outputId": "c27aa458-eba2-46c9-af9e-8bea94910c6b"
      },
      "source": [
        "movies.plot.scatter(x=['Production Budget'], y = ['US Gross'])"
      ],
      "execution_count": 54,
      "outputs": [
        {
          "output_type": "execute_result",
          "data": {
            "text/plain": [
              "<matplotlib.axes._subplots.AxesSubplot at 0x7fa6653a2eb8>"
            ]
          },
          "metadata": {
            "tags": []
          },
          "execution_count": 54
        },
        {
          "output_type": "display_data",
          "data": {
            "image/png": "[encoded data removed]",
            "text/plain": [
              "<Figure size 432x288 with 1 Axes>"
            ]
          },
          "metadata": {
            "tags": [],
            "needs_background": "light"
          }
        }
      ]
    },
    {
      "cell_type": "markdown",
      "metadata": {
        "id": "7WWkDcpx8v8k"
      },
      "source": [
        "Use a regressão linear para encontrar os coeficientes a e b:"
      ]
    },
    {
      "cell_type": "code",
      "metadata": {
        "id": "EqVtDFhF8v8k",
        "colab": {
          "base_uri": "https://localhost:8080/"
        },
        "outputId": "4931f4d5-176a-4c4d-da93-c07f30c5fdc4"
      },
      "source": [
        "from scipy.stats import linregress\n",
        "result = linregress(movies['Production Budget'], movies['US Gross'])\n",
        "\n",
        "print(f\"f(x) = {result.slope}x + {result.intercept}\")"
      ],
      "execution_count": 55,
      "outputs": [
        {
          "output_type": "stream",
          "text": [
            "f(x) = 1.0957226466834868x + 9896486.136543602\n"
          ],
          "name": "stdout"
        }
      ]
    },
    {
      "cell_type": "markdown",
      "metadata": {
        "id": "H-AghZff8v8k"
      },
      "source": [
        "Utilize a função `show_regression` abaixo para visualizar o resultado da regressão linear. Nesta função, você deve passar as coordenadas x dos pontos, as coordenadas y, o coeficiente a e o coeficiente b."
      ]
    },
    {
      "cell_type": "code",
      "metadata": {
        "id": "zR4ChaE18v8k"
      },
      "source": [
        "#### NÃO ALTERAR ESSE CÓDIGO ####\n",
        "\n",
        "import matplotlib.pyplot as plt\n",
        "\n",
        "def gen_line(x_min, x_max, n_points, a, b):\n",
        "    interval = x_max-x_min\n",
        "    interval_value = interval/n_points\n",
        "    \n",
        "    x_result = []\n",
        "    y_result = []\n",
        "\n",
        "    for i in range(n_points):\n",
        "        current_x = x_min+i*interval_value\n",
        "        x_result.append(current_x)\n",
        "        y_result.append(a*current_x + b)\n",
        "        \n",
        "    return x_result, y_result\n",
        "\n",
        "def show_regression(x, y, a, b):\n",
        "    N = 100\n",
        "\n",
        "    plt.scatter(x, y)\n",
        "\n",
        "    line_1 = gen_line(min(x), max(x), N, a, b)\n",
        "    plt.plot(line_1[0], line_1[1], c= \"red\")\n",
        "\n",
        "    plt.gca()\n",
        "    plt.show()"
      ],
      "execution_count": 56,
      "outputs": []
    },
    {
      "cell_type": "markdown",
      "metadata": {
        "id": "m5CwtKOV8v8k"
      },
      "source": [
        "Exemplo de uso da função:"
      ]
    },
    {
      "cell_type": "code",
      "metadata": {
        "id": "kQIYOdgm8v8k",
        "colab": {
          "base_uri": "https://localhost:8080/",
          "height": 289
        },
        "outputId": "9d51d8fd-16b0-4adc-aa49-d45ba0605ce1"
      },
      "source": [
        "show_regression(movies[\"Production Budget\"], movies[\"US Gross\"], result.slope, result.intercept)"
      ],
      "execution_count": 57,
      "outputs": [
        {
          "output_type": "display_data",
          "data": {
            "image/png": "[encoded data removed]",
            "text/plain": [
              "<Figure size 432x288 with 1 Axes>"
            ]
          },
          "metadata": {
            "tags": [],
            "needs_background": "light"
          }
        }
      ]
    },
    {
      "cell_type": "markdown",
      "metadata": {
        "id": "TpwxmKBH8v8k"
      },
      "source": [
        "A função `predict` recebe um production budget de um filme e retorna a predição do US Gross para ele:"
      ]
    },
    {
      "cell_type": "code",
      "metadata": {
        "id": "fAcqtdGp8v8k"
      },
      "source": [
        "def predict(production_budget):\n",
        "    \"\"\"\n",
        "    >>> f'{predict(100000):.2f}'\n",
        "    '10006058.40'\n",
        "    \n",
        "    >>> f'{predict(1000000):.2f}'\n",
        "    '10992208.78'\n",
        "\n",
        "    >>> f'{predict(5000000):.2f}'\n",
        "    '15375099.37'\n",
        "    \"\"\"\n",
        "    # ADICIONE O SEU CÓDIGO AQUI    \n",
        "    f = lambda x: result.slope * x + result.intercept\n",
        "\n",
        "    return f(production_budget)"
      ],
      "execution_count": 65,
      "outputs": []
    },
    {
      "cell_type": "markdown",
      "metadata": {
        "id": "FKyX0p2a8v8k"
      },
      "source": [
        "## Teste"
      ]
    },
    {
      "cell_type": "code",
      "metadata": {
        "id": "zsIwofBa8v8k",
        "colab": {
          "base_uri": "https://localhost:8080/"
        },
        "outputId": "a335223c-d252-42c6-e13d-bc187ad5d379"
      },
      "source": [
        "import doctest\n",
        "\n",
        "doctest.testmod(verbose=True)"
      ],
      "execution_count": 66,
      "outputs": [
        {
          "output_type": "stream",
          "text": [
            "Trying:\n",
            "    f'{predict(100000):.2f}'\n",
            "Expecting:\n",
            "    '10006058.40'\n",
            "ok\n",
            "Trying:\n",
            "    f'{predict(1000000):.2f}'\n",
            "Expecting:\n",
            "    '10992208.78'\n",
            "ok\n",
            "Trying:\n",
            "    f'{predict(5000000):.2f}'\n",
            "Expecting:\n",
            "    '15375099.37'\n",
            "ok\n",
            "3 items had no tests:\n",
            "    __main__\n",
            "    __main__.gen_line\n",
            "    __main__.show_regression\n",
            "1 items passed all tests:\n",
            "   3 tests in __main__.predict\n",
            "3 tests in 4 items.\n",
            "3 passed and 0 failed.\n",
            "Test passed.\n"
          ],
          "name": "stdout"
        },
        {
          "output_type": "execute_result",
          "data": {
            "text/plain": [
              "TestResults(failed=0, attempted=3)"
            ]
          },
          "metadata": {
            "tags": []
          },
          "execution_count": 66
        }
      ]
    }
  ]
}